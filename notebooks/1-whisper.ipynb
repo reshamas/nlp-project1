{
 "cells": [
  {
   "cell_type": "markdown",
   "id": "2cc376a5",
   "metadata": {},
   "source": [
    "### Date updated\n",
    "2024-06-12\n",
    "\n",
    "### Authors\n",
    "Reshama S\n",
    "\n",
    "### Instructions for Whisper\n",
    "- https://github.com/openai/whisper\n",
    "- Setting up virtual environment: https://packaging.python.org/en/latest/guides/installing-using-pip-and-virtual-environments/\n",
    "\n",
    ">We manually transcribed all the subjects for which you generated automated transcriptions using Whisper and AssemblyAI tools. \n",
    "\n",
    ">Would you be able to add those automated transcriptions by AssemblyAI line by line and calculate some kind of agreement between the two transcribers (Human vs AI)?\n"
   ]
  },
  {
   "cell_type": "code",
   "execution_count": 1,
   "id": "41e1c110",
   "metadata": {},
   "outputs": [],
   "source": [
    "import whisper\n",
    "import os"
   ]
  },
  {
   "cell_type": "code",
   "execution_count": 2,
   "id": "86ee25c4",
   "metadata": {},
   "outputs": [],
   "source": [
    "data_dir = \"../data-media/\"\n",
    "transc_dir = \"../data/transcripts-whisper/\"\n",
    "#transc_dir = \"../data/test-data/\""
   ]
  },
  {
   "cell_type": "code",
   "execution_count": 3,
   "id": "4d023d3f-d71f-4b5f-aa81-3d676366cf7c",
   "metadata": {},
   "outputs": [
    {
     "name": "stdout",
     "output_type": "stream",
     "text": [
      "SS_IMG_2863.MOV\n",
      " And one more thing I'll ask you to tell me about is a childhood memory that wasn't good, like a sad or, you know, hopefully not too traumatic, but like a bad memory from childhood. Yeah. I had a pretty fairly good, you know, no issues that I can really remember, but I do remember falling out of a tree. Thank God it wasn't too high. You know, reaching for the next one and the next one, and then all of a sudden you're reaching and you don't get it, and you, bam. It wasn't horrible, but it hurt. Scary. It hurt, yeah. Did you break anything? No, I didn't. No, I've never had a broken bone. Good. Thank God. Okay.\n"
     ]
    }
   ],
   "source": [
    "def audio_scribe(logp, file_name ):\n",
    "    #model = whisper.load_model(\"base\")\n",
    "    #model = whisper.load_model(\"base.en\")\n",
    "    model = whisper.load_model(\"large\")\n",
    "\n",
    "    filepath = os.path.join(data_dir, file_name)     \n",
    "    result = model.transcribe(filepath, fp16=False)\n",
    "\n",
    "    root, ext = os.path.splitext(file_name)\n",
    "    with open(transc_dir+root+ '.txt', 'w') as f:\n",
    "        f.write(result['text'])\n",
    "           \n",
    "    if logp==1:\n",
    "        print(file_name)\n",
    "        #print(type(result))\n",
    "        #for key, value in result.items():\n",
    "        #    print(key, value)\n",
    "    \n",
    "        print(result[\"text\"])\n",
    "\n",
    "audio_scribe(logp=1, file_name='SS_IMG_2863.MOV')\n"
   ]
  },
  {
   "cell_type": "code",
   "execution_count": 4,
   "id": "4b110e24-83bc-4f4e-b48b-620302128752",
   "metadata": {},
   "outputs": [
    {
     "name": "stdout",
     "output_type": "stream",
     "text": [
      "HC2_SD_5.7.24_FirstJob.mov\n",
      " One more thing I'm going to ask you about is to tell me about your first job, or if it's not your very first, one of your first jobs that you've had. Tell me a little bit about that. Oh my God. My first job was at a place called The Beam on Welsh Bush Road. I was 16. Holy crap, that's a long time ago. And it was a burger place. And it was a lot of fun. We had a lot of nice people there. We had fun. That's all. Anything more about it? I told you I'm not a talker. I know. Okay.\n",
      "AJ_IMG_3334.MOV\n",
      " I want you to tell me about any kind of trip that you've taken. I know you've traveled a lot. So tell me a little bit about, you know, a trip that you enjoyed. Well, we went to Italy. I enjoyed Italy, enjoyed the food. I enjoyed the wine, and the women are fantastic. It's not the safest place in the world, but you kind of live with it. You kind of, you live with it. You know you're supposed to lock your house and close your windows and all that stuff. But everything was fine. Did you live there or vacation? No, I lived there. Wow. Stayed there for about three years. What part? Naples. Naples. Lovely place. But, like I said, it's not the safest place to live. But. Did you speak Italian? I spoke a little bit, yeah. Wow. A little bit. And did you work there or no? Yes, I did. I worked at a gym. Cool. And what'd your wife do? Because you mentioned it was her job, right? Oh, she, yeah. She was, she ran a tourist place, you know, where people want to take a trip. She had a lot of people that worked for her, but people want to take a trip or whatever, then she set it up. How neat. Yeah. Good.\n",
      "BM_IMG_3480.MOV\n",
      " It is 12-19-23 and I'm going to have you first tell me a little bit about a nice trip or vacation or something that you've taken in your past that you enjoyed. I don't go on a lot of vacations. Or even a trip like to Texas like your wife was saying if you visit family. Yeah, we go to visit my wife's sister and her husband and her family with lots of their grandchildren there and it's good for my wife. It's good for her to get back home. Two thousand miles away from home. Where we are now. It's good to be in touch with their family and get to do things and to hear their accents and to eat lots of food and just have a good time. Nice. What part of Texas is it? West Texas. Yeah. Hardly rains. Oh wow. One of the things about that place is when I take a walk I don't hardly sweat and that's unusual for me. Yeah. It's also a little bit of a It's just so dry. It's so dry. You listen to the news and humidity today 20% or something like that. And so, it's a real dry place. They grow. My wife was up, my wife's father was, had, their land had oil on it and also they had beef but it was beef cattle. It wasn't cattle. Yeah. milk cattle, you know, because it was, there's just not enough water. Oh. Yeah. So you go to the store, and when you want to buy milk, it's a lot of money because they have to ship it in, most of it. But there's a lot of, the beef is cheaper than around here. Okay.\n",
      "PG_IMG_3190.MOV\n",
      " to ask you about. I'm going to ask you to tell me a little bit about a childhood memory that wasn't great. Hopefully not too traumatic, but we all kind of remember something from childhood. I feel like a lot of us do that was like, oh. I think one memory that I can tell you about is that I was in the garage and I was doing something with my father, whatever, and the bench fell on my leg, over on my leg, and I broke my leg. Oh no. And I had to go to the hospital and get set and stuff like that. That was a long time ago. I don't even, I can't tell you the year either. That's one of the things I do remember most. Oh, poor kid. How old were you, do you know? I want to say 14-ish, 14, 15, something like that. Maybe 13, 14, 15, that age. Poor guy. But, I'm not sure. It hasn't bothered me all my life, really. I really haven't had an issue. Good, okay.\n",
      "BM_IMG_3481.MOV\n",
      " story about something? I know, yes, one more story. This one is, can be really interesting. I want you to tell me about a childhood or adolescent memory that wasn't, hopefully not too traumatic, but something that was like a bad childhood memory. Yeah, next door was this big tree and we kids thought it would be cool to climb up in the tree and we had a board and I don't know if we made like a little sign on it or not, but we climbed, we skimmed it up the tree and pounded that board into that tree. And so around the corner was a funeral home and the man, the director of the home was called Van Dusen, Mr. Van Dusen. And so all us kids were, you know, we had those, we had those, this board in the tree and so um um um, so, so somebody said, Van Dusen said to get that bar, that board out of that tree, you know, so I climbed up, yanked the bar, yanked the thing down and threw it down and I jumped out of the thing and I ran on the board with the nails up and I'm walking around screaming and, and, and I'm walking with the board in my, walking with it stuck in my, my, my, my, my, my sneaker, you know, blood all over the place and I'm screaming bloody, bloody murder. My, my, my mom comes running out and stuff like that and, and I'm yelling out, I hate you Van Dusen. And, um, and, and so, you know, obviously we went to the doctor and, and just for like, I don't know, seemed like months, you know, it was hard to even walk, you know, just, you know, trying to re, re, recuperate from it. So that was, Poor guy.\n",
      "AJ_IMG_3335.MOV\n",
      " One more is I have people tell me a little bit of a memory about something that was unpleasant in childhood or young, in your younger years, if you remember anything that was like, hopefully not too horrible, but just something that wasn't pleasant. No, I don't, I don't, I never really had a, I mean, you know, we were poor. We lived in a different part of town than the richer kids did, but it didn't bother me. It didn't, we just, because it's something you grew up living in and doing and it just, it just didn't bother me. Just, you know, I, I enjoyed, I enjoyed being a kid. I enjoyed growing up the way I did and, you know, I really don't have any. You mentioned you were a football player, so maybe people didn't mess with you. Well, I don't know. But anyway, no, I just. We had a, we had a, like I said, there was eight of us and I can remember, let's see, my sister Gloria, she got married. I don't think I knew how it, no. Okay, that's fine. Okay.\n",
      "HC2_SD_5.7.24_BestTrip.mov\n",
      " Okay, the date is May 1st, 2024, and I'm just going to ask you to tell me a little bit about a trip that you've taken in the past. Oh, I just went to Myrtle Beach. I bought a condo down there, so I went down to, had some problems with it, so I went down to observe it, see how the work was coming in it. Had a little free time away from all the people at home. It was cold. It wasn't only two good days, that was it. So it was a nice trip. My husband's sister, her husband was there, so we had a nice time. Anything else? Can you tell me a little more? Visited our nephew who lives down there. Went out to eat. Didn't get on the beach at all. Because it was not warm enough. That's about all we did. Okay, that's fair.\n",
      "SG_FirstJob_04.03.2024.mov\n",
      " One more thing is I'd like you to tell me a little bit about your first or like an initial job that you had in the past. My first job that I can recall, it was in accounting. It was at Union Tools. I worked as a staff accountant. And after working there for a few years, I got promoted and became the accounting supervisor. And after they closed up, I went on to Red Coat and became an accountant there. And they ended up closing and there was five of us left. And we all walked out together. And I was like, hey, let's go.\n",
      "AP_IMG_3383.MOV\n",
      " It is 12-6-23 and I'm just going to ask you to tell me a little bit about a trip of some sort that you've taken in the past that was enjoyable. Yeah, I went to Grand Canyon, Pennsylvania. It's just like the Grand Canyon, but it's in a smaller scale and it's natural made. It wasn't made by men and we didn't go all the way down because I was too scared. You could see it from the top and it's called the Grand Canyon, Pennsylvania. I have never heard of that. I have to look it up. What part is it near? That I don't remember, but I remember driving to it from Waterloo, New York to the Grand Canyon, Pennsylvania. Did you? Did you stay there for a few days or do some hiking? Just for hiking, yeah. Nice. How long does it take to hike it? As I said, we didn't hike all the way down, but a couple of hours, I would say, yeah. Oh, that is so neat. Yeah. Did you do that recently? No, that was many years ago. Yeah, okay. It stays in my memory, yeah.\n",
      "SF_2.6.24_Childhood_memory.mov\n",
      " We'll talk about one more thing and tell me a little bit about a childhood memory that wasn't good. Hopefully nothing too scary but something you remember from your youth that was a bad memory. When I was around eight or nine years old, I had problems with a kidney that I don't remember too good but all I remember is I was in a hospital when I was around nine years old and I was away from home for over a week which was upsetting. I remember the good part of that was all my aunts and uncles came to visit me in a hospital but I missed my brothers quite a bit and my parents. Hospitals were a lot different back then. It was sort of a colder feeling. I remember that. I was left there alone overnight in a child's ward and the only thing I remember is I talked to my brothers by phone a few times during the week I was there and it seemed so distant even though they were only not even a few blocks away really. It was called St. Luke's Hospital and we lived in East Utica. My dad worked so he only could come see me at night. My mom had to take care of my brothers so she would come see me when she can. I was alone in the hospital at a young age so it was not a memory that I'm fond of but I do remember. Things are different today. You can do things differently with a kid in a hospital. Somehow you make your work a little easier but back then it was hard. Juggling would work in and other children. I remember that. It was a long feeling to be there that long. That's one memory I have from my childhood.\n",
      "RF_IMG_3241.MOV\n",
      " I'm also going to ask you to tell me a story about a bad, hopefully not too traumatic, but like a bad childhood memory, if you have any, or adolescence, something that happened that wasn't great. Oh, I remember when I was very young, well, not very, maybe about 10 years old, my father worked in a summer camp and a few of us kids were horsing around and we were climbing out of a window and I sort of fell and hit my wrist and broke my wrist. Which made the rest of the summer, I was in the beginning of the summer, not too much fun because I had a cast on my wrist for like three quarters of the summer. Oh my goodness. Did your dad, did you get in trouble for it? Yeah, minor, minor trouble. Yikes, let's see. It's okay, that's fine. Alright.\n",
      "RF_IMG_3240.MOV\n",
      " It is 11-21-23 and I'm going to have you tell me a little bit about a trip or vacation, some type of excursion you've had that you enjoyed in the past. Oh, okay. Our last cruise was up to Canada and we stopped at Halifax and Nova Scotia and came down to Portland and ate a lot of good lobster and had fun. Nice. What did you do? Did you go out and do excursions like off the boat or? Yes. Yeah. We took, on that one, we took a horse-drawn carriage through a town whose name I can't remember and that was pretty cool. We went and saw an old village where the people... In the village, they all dressed up like they would have back when the village was founded. Saw some pretty spectacular views in Canada. Nice. That sounds good. Okay. Yeah. Thank you.\n",
      "SF_2.6.24_BestTrip.mov\n",
      " Okay, this is SF and the date is 2-6-24. And I would just like you to tell me about a vacation or trip you've taken in your lifetime. It can be any trip when you were younger, older, whatever. My most recent trip, I went to South Carolina to visit my brother who resides there part-time. And I went down there with my daughter, son-in-law, and some other family members. And it was enjoyable because it was the first time I ever been to the beach, the real beach. So it was a fun time. And I don't leave New York State that often. So it was at his condo. They had a pool there. And water is good for me. I have artificial knee pain. I have a knee pain. So I got to spend time in the ocean and also in the pool that they had, their heated pool. So for the week that I was there, it was very enjoyable to spend time with family and also to rehab my knee quite often the time I was there. So that was my most recent trip. And it was enjoyable for two reasons. Oh, good. Okay.\n",
      "SS_IMG_2863.MOV\n",
      " And one more thing I'll ask you to tell me about is a childhood memory that wasn't good, like a sad or, you know, hopefully not too traumatic, but like a bad memory from childhood. Yeah. I had a pretty fairly good, you know, no issues that I can really remember, but I do remember falling out of a tree. Thank God it wasn't too high. You know, reaching for the next one and the next one, and then all of a sudden you're reaching and you don't get it, and you, bam. It wasn't horrible, but it hurt. Scary. It hurt, yeah. Did you break anything? No, I didn't. No, I've never had a broken bone. Good. Thank God. Okay.\n",
      "SS_IMG_2862.MOV\n",
      " I'm going to have you tell me a little bit about a trip that you've taken that you enjoyed. Six years ago, we went to Disney World. It was my fourth time being there. And I went with my daughter and her husband and my grandson, Nicholas, and it was wonderful. We were there for a week, a whole week. It was just wonderful. I mean, things from Disney that I remember from years ago, new things. It was great. Got a lot of pictures and videos. What do you think the highlight was? What was your favorite experience? The Hollywood Tower of Terror, I think they call it. Have you been? Hollywood Tower of Terror. They put you on a ride and you go and you're in this big haunted mansion and you can't see a thing really until you know what's coming up because you could see this tower, this elevator tower open really high and then you hear people screaming, because then it drops you to the bottom. Oh my God, it sounds terrible. No, it was wonderful. It was wonderful. It really was. It was wonderful. It was a very good experience. Okay. All right. Thank you.\n",
      "AP_IMG_3384.MOV\n",
      " I have just one more thing to ask you about. I'm asking people to tell me about a memory from their past, like a childhood memory or when you were young that was like a bad memory. Hopefully nothing too, you know, too traumatic, but you have a memory of something that happened? Yeah, those are when I was six years old. There was a civil war in the Dominican Republic and I remember walking with my father and my father was one of the targets that they had selected to eliminate because he was part of the government that overthrew the communist government that was elected. So I remember the bullets flying over our heads. Oh my goodness. Well that's a terrible memory. Oh my goodness. Yes. But I know from our history that he lived until well into his 90s so... Oh yes. So you may know. That's scary. Did that last for a long time or was it brief? It was from April to about November because the American troops intervened to get everything you know in order. Oh wow. But then in 1966 there was regular elections. But yeah, the American presence was was visible. MS. Mm-hmm. Oh, my goodness, what a memory.\n",
      "PG_IMG_3189.MOV\n",
      " All right, I'm going to have you tell me about a nice vacation or a fun vacation you took at some point. It can be any time in your life or trip. One of our favorite things to do is go down to Myrtle Beach in April, April, May, every year. We visit friends and that sort of thing. They come down with us sometimes. I brought my kids down there, the whole family down there, stuff like that. Do you stay on the water? Yeah. We have a timeshare. Oh. Okay, so we use the timeshare. We stay on the beach most of the time, travel around to eat, and the place has places where you can use a barbecue grill and stuff like that. They have it out there, either propane or charcoal. Mm-hmm. They have both. And pools and hot tubs and everything else. I don't do the hot tub. I don't like that stuff. Okay. But anyway. Nice. I do the pool and I'll go out, but the ocean's kind of cool. Mm-hmm. It's still cool. Other than that, kids have a ball because it's a sandy beach and stuff like that. It's fun. It's a good time. Yeah, it is fun. Nice. We usually stay a week. Do you get some golfing? Not usually. Not if kids come. Mm-hmm. We don't do that. Because we got one vehicle. Oh, I see. I've been using the company van. Mm-hmm. That's been my car while I'm working. But if I'm done at the end of the year, I really don't know yet to see what the owner has to say. So if he wants me to still come around or not. Mm-hmm. Because he's paying me something, obviously. But I'm still a director. Right. That's why he's hanging on to me just like my, I'll call it my co-partner. Mm-hmm. Yeah. Massachusetts. Let's see. Okay. When we get together and we actually.\n",
      "PB_2.27.24_BestTrip.mov\n",
      " All right, this is TB. It's 2-27-24. And I'm just going to ask you to tell me about a vacation or trip that you've taken. It could be recent or a long time ago. Anything you can recall. Yeah, we went to Disney World more than once, but we had a great time with our three kids and my husband. And we were there three solid weeks. And that was long and hot, hottest place I've ever been in the summer. But it was beautiful and it was fun. We had a free place to stay every night, so that was good. Anything else? Any details? Yeah, tell me a little more. Oh, what did we do? We went on all the rides. This was a while ago, so they didn't have as many. Luckily, we were there when they had... They didn't have the ticket lines, the lines where you could all run in ahead. And I was glad because a little bit old-fashioned about Disney back 25 years ago. It's a big difference. Big, big difference. And we had fun. Ate well. Stayed at grandparents' houses where they took care of us. Had fun. Nice. Thank you.\n",
      "SG_BestTrip_04.03.2024.mov\n",
      " So the date is April 2nd, 2024. And I would like you to tell me if you could about a trip that you've taken in the past. I took a trip to, a lot of trips to Pennsylvania. My son lives there. So we go there a lot. Gillsburg, right outside Harrisburg. We have taken trips to Disney. Tell me a little bit about that. It was enchanting. It was so much fun. The kids, he enjoyed watching the kids. They made it magical. The kids did. And if anybody, anyone, if they can ever get a chance to go, they should go. It is magical. What did you do there? We rode, of course, rides. We took, we took a, went to the Animal Kingdom and rode the safari, which that was fun. We went up and down on Main Street. Of course, we saw Mickey and Minnie and she and all them. We watched the parade. We went in the castle, saw Cinderella. Neat. Okay.\n",
      "MW_IMG_3200.MOV\n",
      " How's it going today? It's November 15th and I'm going to have you tell me a story about a trip that you've taken. It can be any time. Actually, maybe just the trip you just took a little bit. Tell me about it. Okay. Well, I got on the plane in Syracuse. I went to Baltimore Airport and then we went to Albuquerque where I got off the plane and Gail Dalby, my RN, picked me up and we went to her son's place and that's where I stayed. And... Friday we sat... Or Friday we did a few things and then Saturday we went to the Balloon Festival and on a bus trip, which was the easiest and really the cheapest way of getting here because for $25 you took the bus from a shopping mall. And the price of... $25? $25, yeah. The price of getting in and the bus ride was $25. Oh, nice. So it was really reasonable. And the bus dropped us right off at the place we entered the Balloon Festival, which was better than walking a half of a mile from the parking lot. Oh, yeah. Which also included a handicap, which was a half a mile away too. But we did that. Oh, yeah. So that's what we did. That's what we did. That's what we did. We did that for several hours. Came back and rested. We went up to Santa Fe. It was Monday. Yeah. Monday we went to Santa Fe. And we went to... Checked out... Yeah. We went to the oldest house in the United States and the oldest church in the United States. Oh, my goodness. We were going to eat up there, but they also were having a festival at that day, which the center where we wanted to eat was all filled out and there was no place to park. Okay. All right.\n",
      "MW_IMG_3201.MOV\n",
      " One more story I'll ask you to tell me is I'm asking people to tell me about something like a bad memory from your youth or from when you were younger hopefully nothing too traumatic but just something that you know when you were a little or a teenager. Hmm, I don't really remember. Oh there was a, I was climbing up a tree in a neighbor's yard and she caught me and not only did she chew me out but she hit me several times. Oh no. And I went home talked to my father about it he says well you shouldn't have been up in the tree and that's about all I can remember. Okay, that's fair.\n"
     ]
    }
   ],
   "source": [
    "# model options: https://github.com/openai/whisper?tab=readme-ov-file#available-models-and-languages\n",
    "\n",
    "def audio_scribe(logp, file_name ):\n",
    "    #model = whisper.load_model(\"base\")\n",
    "    #model = whisper.load_model(\"base.en\")\n",
    "    model = whisper.load_model(\"large\")\n",
    "\n",
    "    filepath = os.path.join(data_dir, file_name)     \n",
    "    result = model.transcribe(filepath, fp16=False)\n",
    "\n",
    "    root, ext = os.path.splitext(file_name)\n",
    "    with open(transc_dir+root+ '.txt', 'w') as f:\n",
    "        f.write(result['text'])\n",
    "           \n",
    "    if logp==1:\n",
    "        print(file_name)\n",
    "        #print(type(result))\n",
    "        #for key, value in result.items():\n",
    "        #    print(key, value)\n",
    "    \n",
    "        print(result[\"text\"])\n",
    "\n",
    "#audio_scribe(logp=1, file_name='AJ_IMG_3334.MOV')\n",
    "\n",
    "for filename in os.listdir(data_dir):\n",
    "    audio_scribe(logp=1, file_name=filename)\n",
    "        "
   ]
  },
  {
   "cell_type": "code",
   "execution_count": null,
   "id": "94235d05-2ae7-413e-95eb-183ceb47c1fa",
   "metadata": {},
   "outputs": [],
   "source": []
  },
  {
   "cell_type": "code",
   "execution_count": null,
   "id": "f275ec44-154f-4923-9c99-87a19e4fd53b",
   "metadata": {},
   "outputs": [],
   "source": []
  },
  {
   "cell_type": "code",
   "execution_count": 5,
   "id": "666d48d3",
   "metadata": {},
   "outputs": [],
   "source": [
    "# # import whisper\n",
    "\n",
    "# model = whisper.load_model(\"base\")\n",
    "\n",
    "# # load audio and pad/trim it to fit 30 seconds\n",
    "# audio = whisper.load_audio(\"../data-media/AJ_IMG_3334.MOV\")\n",
    "# audio = whisper.pad_or_trim(audio)\n",
    "\n",
    "# # make log-Mel spectrogram and move to the same device as the model\n",
    "# mel = whisper.log_mel_spectrogram(audio).to(model.device)\n",
    "\n",
    "# # detect the spoken language\n",
    "# _, probs = model.detect_language(mel)\n",
    "# print(f\"Detected language: {max(probs, key=probs.get)}\")\n",
    "\n"
   ]
  },
  {
   "cell_type": "code",
   "execution_count": 6,
   "id": "50594098-3fe6-422c-b073-08fd8e7b8754",
   "metadata": {},
   "outputs": [],
   "source": [
    "# # decode the audio\n",
    "# options = whisper.DecodingOptions()\n",
    "# result = whisper.decode(model, mel, options)\n"
   ]
  },
  {
   "cell_type": "code",
   "execution_count": null,
   "id": "f2362e9a-26c5-42af-8c90-213d3295c47c",
   "metadata": {},
   "outputs": [],
   "source": []
  },
  {
   "cell_type": "code",
   "execution_count": null,
   "id": "b4ad0fee-24da-4fcd-b9b8-2497cb9e18c1",
   "metadata": {},
   "outputs": [],
   "source": []
  },
  {
   "cell_type": "code",
   "execution_count": null,
   "id": "a6921eff-3b50-46ec-ad7f-402bf52d7fb4",
   "metadata": {},
   "outputs": [],
   "source": []
  },
  {
   "cell_type": "code",
   "execution_count": null,
   "id": "3bdd571d",
   "metadata": {},
   "outputs": [],
   "source": [
    "\n"
   ]
  },
  {
   "cell_type": "code",
   "execution_count": null,
   "id": "75699058",
   "metadata": {},
   "outputs": [],
   "source": []
  }
 ],
 "metadata": {
  "kernelspec": {
   "display_name": "Python 3 (ipykernel)",
   "language": "python",
   "name": "python3"
  },
  "language_info": {
   "codemirror_mode": {
    "name": "ipython",
    "version": 3
   },
   "file_extension": ".py",
   "mimetype": "text/x-python",
   "name": "python",
   "nbconvert_exporter": "python",
   "pygments_lexer": "ipython3",
   "version": "3.11.7"
  }
 },
 "nbformat": 4,
 "nbformat_minor": 5
}
